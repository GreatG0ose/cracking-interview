{
 "cells": [
  {
   "cell_type": "code",
   "execution_count": 3,
   "metadata": {},
   "outputs": [],
   "source": [
    "class Node:\n",
    "    def __init__(self, value):\n",
    "        self.next = None\n",
    "        self.value = value\n",
    "\n",
    "class Stack:\n",
    "    def __init__(self):\n",
    "        self.head = None\n",
    "    \n",
    "    def push(self, item):\n",
    "        if self.is_empty():\n",
    "            self.head = Node(item)\n",
    "        else:\n",
    "            new_head = Node(item)\n",
    "            new_head.next = self.head\n",
    "            self.head = new_head\n",
    "    \n",
    "    def pop(self):\n",
    "        if self.is_empty():\n",
    "            return\n",
    "        \n",
    "        self.head, self.head.next = self.head.next, None\n",
    "        \n",
    "    def peek(self):\n",
    "        if self.is_empty():\n",
    "            return None\n",
    "        return self.head.value\n",
    "        \n",
    "    def is_empty(self):\n",
    "        return self.head == None\n",
    "    \n",
    "class Queue:\n",
    "    def __init__(self):\n",
    "        self.head = None\n",
    "        self.tail = None\n",
    "    \n",
    "    def add(self, item):\n",
    "        if self.is_empty():\n",
    "            self.head, self.tail = Node(item)\n",
    "        else:\n",
    "            self.tail.next = Node(item)\n",
    "            self.tail = self.tail.next\n",
    "    \n",
    "    def remove(self, item):\n",
    "        if self.is_empty():\n",
    "            return\n",
    "        self.head, self.head.next = self.head.next, None\n",
    "    \n",
    "    def peek(self, item):\n",
    "        if self.is_empty():\n",
    "            return None\n",
    "        return self.head.value\n",
    "    \n",
    "    def is_empty(self, item):\n",
    "        return self.head == None"
   ]
  }
 ],
 "metadata": {
  "kernelspec": {
   "display_name": "Python 3",
   "language": "python",
   "name": "python3"
  },
  "language_info": {
   "codemirror_mode": {
    "name": "ipython",
    "version": 3
   },
   "file_extension": ".py",
   "mimetype": "text/x-python",
   "name": "python",
   "nbconvert_exporter": "python",
   "pygments_lexer": "ipython3",
   "version": "3.8.2"
  }
 },
 "nbformat": 4,
 "nbformat_minor": 4
}
