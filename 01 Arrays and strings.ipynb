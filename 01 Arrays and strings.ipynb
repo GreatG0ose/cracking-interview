{
 "cells": [
  {
   "cell_type": "code",
   "execution_count": null,
   "metadata": {},
   "outputs": [],
   "source": [
    "import copy\n",
    "import time\n",
    "\n",
    "def run_test(cases, fun, should_fail = False):\n",
    "    print(f\"Testing '{fun.__name__}'\")\n",
    "    for args, expected in cases:\n",
    "        \n",
    "        fun_args = copy.deepcopy(args)\n",
    "        start = time.time()\n",
    "        result = fun(*fun_args)\n",
    "        end = time.time()\n",
    "        time_str = '%5.2f' % ((end - start) * 10**6)\n",
    "        \n",
    "        args_str = \"\".join([f\"'{arg}'\" for arg in args])\n",
    "        if result == expected:\n",
    "            print(f\"\\tOK {time_str}ns {args_str}\")\n",
    "        elif should_fail:           \n",
    "            assert expected == result, f\"FAIL {args_str}. Expected: '{expected}'. Got: '{result}'\"\n",
    "        else:\n",
    "            print(f\"\\tFAIL {args_str}. Expected: '{expected}'. Got: '{result}'\")"
   ]
  },
  {
   "cell_type": "markdown",
   "metadata": {},
   "source": [
    "# 1.1 Is Unique\n",
    "\n",
    "Implement an algorithm to determine if a string has all unique characters. What if you\n",
    "cannot use additional data structures?"
   ]
  },
  {
   "cell_type": "code",
   "execution_count": null,
   "metadata": {},
   "outputs": [],
   "source": [
    "def is_unique_quad_optimized(string):\n",
    "    n = len(string)\n",
    "    \n",
    "    for i in range(n - 1):\n",
    "        for j in range(i + 1, n):\n",
    "            if string[i] == string[j]:\n",
    "                return False\n",
    "    \n",
    "    return True\n",
    "\n",
    "def is_unique_hash(string):\n",
    "    chars = set()\n",
    "    \n",
    "    for c in string:\n",
    "        if c in chars:\n",
    "            return False\n",
    "        chars.add(c)\n",
    "    \n",
    "    return True\n",
    "\n",
    "def is_unique_bitset(string):\n",
    "    chars = [False for _ in range(256)]\n",
    "    \n",
    "    for c in string:\n",
    "        if chars[ord(c)]:\n",
    "            return False\n",
    "        chars[ord(c)] = True\n",
    "        \n",
    "    return True\n",
    "\n",
    "def is_unique(string: str) -> bool:\n",
    "    return is_unique_bitset(string)"
   ]
  },
  {
   "cell_type": "code",
   "execution_count": null,
   "metadata": {},
   "outputs": [],
   "source": [
    "test_cases = [\n",
    "    ([\"abc\"], True),\n",
    "    ([\"aab\"], False),\n",
    "    ([\"baa\"], False),\n",
    "    ([\"qwertyuiopasdfghjklzxcvbnm\"], True),\n",
    "    ([\"qwertyuiopasdfghjklzxcvbnmm\"], False),\n",
    "    ([\"Bab\"], True),\n",
    "    ([\"\"], True),\n",
    "]\n",
    "\n",
    "for algorithm in [is_unique_bitset, is_unique_hash, is_unique_quad_optimized]:\n",
    "    run_test(test_cases, algorithm)"
   ]
  },
  {
   "cell_type": "markdown",
   "metadata": {},
   "source": [
    "# 1.2 Check Permutation\n",
    "\n",
    "Given two strings, write a method to decide if one is a permutation of the\n",
    "other"
   ]
  },
  {
   "cell_type": "code",
   "execution_count": null,
   "metadata": {},
   "outputs": [],
   "source": [
    "def is_permutation_sort(str1, str2):\n",
    "    if len(str1) != len(str2):\n",
    "        return False\n",
    "    \n",
    "    arr1 = sorted(str1)\n",
    "    arr2 = sorted(str2)\n",
    "    return arr1 == arr2 \n",
    "   \n",
    "def is_permutation_charr(str1, str2):\n",
    "    if len(str1) != len(str2):\n",
    "        return False\n",
    "    \n",
    "    chars = [0 for _ in range(256)]\n",
    "    \n",
    "    for c in str1:\n",
    "        chars[ord(c)] += 1\n",
    "    for c in str2:\n",
    "        chars[ord(c)] -= 1\n",
    "    \n",
    "    for v in chars:\n",
    "        if v != 0:\n",
    "            return False\n",
    "    return True"
   ]
  },
  {
   "cell_type": "code",
   "execution_count": null,
   "metadata": {},
   "outputs": [],
   "source": [
    "test_cases = [\n",
    "    ([\"\", \"\"], True),\n",
    "    ([\"abc\", \"\"], False),\n",
    "    ([\"abc\", \"cab\"], True),\n",
    "    ([\"aab\", \"ab\"], False),\n",
    "    ([\"baa\", \"abb\"], False),\n",
    "    ([\"qwertyuiopasdfghjklzxcvbnm\", \"sdfghjklzxcvbnmqwertyuiopa\"], True),\n",
    "]\n",
    "\n",
    "for algorithm in [is_permutation_sort, is_permutation_charr]:\n",
    "    run_test(test_cases, algorithm)\n"
   ]
  },
  {
   "cell_type": "markdown",
   "metadata": {},
   "source": [
    "# 1.3 URLify\n",
    "\n",
    "Write a method to replace all spaces in a string with '%20'. You may assume that the string\n",
    "has sufficient space at the end to hold the additional characters, and that you are given the \"true\"\n",
    "length of the string. (Note: If implementing in Java, please use a character array so that you can\n",
    "perform this operation in place.)\n",
    "\n",
    "```\n",
    "EXAMPLE\n",
    "\n",
    "Input:  \"Mr John Smith\"\n",
    "Output: \"Mr%20John%20Smith\"\n",
    "```"
   ]
  },
  {
   "cell_type": "code",
   "execution_count": null,
   "metadata": {},
   "outputs": [],
   "source": [
    "def urlify_new(string: str) -> str:\n",
    "    result = []\n",
    "    for c in string:\n",
    "        if(c == ' '):\n",
    "            result.extend(['%', '2', '0'])\n",
    "        else:\n",
    "            result.append(c)\n",
    "    return ''.join(result)\n",
    "\n",
    "def urlify_same(string):\n",
    "    # TODO same string\n",
    "    pass"
   ]
  },
  {
   "cell_type": "code",
   "execution_count": null,
   "metadata": {},
   "outputs": [],
   "source": [
    "test_cases = [\n",
    "    ([\"\"], \"\"),\n",
    "    ([\"abc\"], \"abc\"),\n",
    "    ([\"a bc  d\"], \"a%20bc%20%20d\"),\n",
    "    ([\" \"], \"%20\"),\n",
    "]\n",
    "\n",
    "run_test(test_cases, urlify_new)"
   ]
  },
  {
   "cell_type": "markdown",
   "metadata": {},
   "source": [
    "# 1.4 Palindrome Permutation\n",
    "\n",
    "Palindrome Permutation: Given a string, write a function to check if it is a permutation of a palin-\n",
    "drome. A palindrome is a word or phrase that is the same forwards and backwards. A permutation\n",
    "is a rearrangement of letters. The palindrome does not need to be limited to just dictionary words.\n",
    "\n",
    "```\n",
    "EXAMPLE\n",
    "\n",
    "Input: Tact Coa\n",
    "Output: True (permutations: \"taco cat\", \"atco eta\", etc.)\n",
    "```"
   ]
  },
  {
   "cell_type": "code",
   "execution_count": null,
   "metadata": {},
   "outputs": [],
   "source": [
    "def has_palindrome_perm(string: str) -> bool:\n",
    "    # Assume string has same case\n",
    "    chars = [False for _ in range(128)]\n",
    "\n",
    "    for c in string:\n",
    "        if c == ' ':\n",
    "            continue\n",
    "        chars[ord(c)] = not chars[ord(c)]\n",
    "    \n",
    "    met_odd = False\n",
    "    for v in chars:\n",
    "        if v:\n",
    "            if met_odd:\n",
    "                return False\n",
    "            else:\n",
    "                met_odd = True\n",
    "    return True\n"
   ]
  },
  {
   "cell_type": "code",
   "execution_count": null,
   "metadata": {},
   "outputs": [],
   "source": [
    "test_cases = [\n",
    "    ([\"tact coa\"], True),\n",
    "    ([\"abc\"], False),\n",
    "    ([\"\"], True),\n",
    "    ([\"  aa\"], True),\n",
    "]\n",
    "\n",
    "run_test(test_cases, has_palindrome_perm)"
   ]
  },
  {
   "cell_type": "markdown",
   "metadata": {},
   "source": [
    "# 1.5 One Away\n",
    "\n",
    "There are three types of edits that can be performed on strings: insert a character,\n",
    "remove a character, or replace a character. Given two strings, write a function to check if they are\n",
    "one edit (or zero edits) away\n"
   ]
  },
  {
   "cell_type": "code",
   "execution_count": null,
   "metadata": {},
   "outputs": [],
   "source": [
    "def is_close_word(a: str, b: str) -> bool:\n",
    "    m = len(a)\n",
    "    n = len(b)\n",
    "    if m < n:\n",
    "        a, b = b, a\n",
    "        m, n = n, m\n",
    "    \n",
    "    if m - n > 1: \n",
    "        return False\n",
    " \n",
    "    for i in range(m - 1):\n",
    "        if a[i] != b[i]:\n",
    "            if m == n:\n",
    "                return a[i + 1:] == b[i + 1:]\n",
    "            elif m != n:\n",
    "                return a[i + 1:] == b[i:]\n",
    "    \n",
    "    return True"
   ]
  },
  {
   "cell_type": "code",
   "execution_count": null,
   "metadata": {},
   "outputs": [],
   "source": [
    "test_cases = [\n",
    "    ([\"\", \"\"], True),\n",
    "    ([\"a\", \"\"], True),\n",
    "    ([\"abc\", \"\"], False),\n",
    "    ([\"abc\", \"aebcd\"], False),\n",
    "    ([\"abc\", \"aac\"], True),\n",
    "    ([\"abc\", \"ac\"], True),\n",
    "    ([\"abc\", \"abec\"], True),\n",
    "    # not my tests\n",
    "    (['pale', 'ple'], True),\n",
    "    (['pales', 'pale'], True),\n",
    "    (['pale', 'bale'], True),\n",
    "    (['paleabc', 'pleabc'], True),\n",
    "    (['pale', 'ble'], False),\n",
    "    (['a', 'b'], True),\n",
    "    (['pale', 'pale'], True),\n",
    "    (['pale', 'ple'], True),\n",
    "    (['pale', 'bake'], False),\n",
    "    (['pale', 'pse'], False),\n",
    "    (['ples', 'pales'], True),\n",
    "    (['pale', 'pas'], False),\n",
    "    (['pale', 'pkle'], True),\n",
    "    (['pkle', 'pable'], False),\n",
    "    (['pal', 'palks'], False),\n",
    "]\n",
    "\n",
    "run_test(test_cases, is_close_word)"
   ]
  },
  {
   "cell_type": "markdown",
   "metadata": {},
   "source": [
    "# 1.6 String Compression\n",
    "\n",
    "Implement a method to perform basic string compression using the counts\n",
    "of repeated characters. For example, the string `aabcccccaaa` would become `a2b1c5a3`, If the\n",
    "\"compressed\" string would not become smaller than the original string, your method should return\n",
    "the original string. You can assume the string has only uppercase and lowercase letters (a - z)."
   ]
  },
  {
   "cell_type": "code",
   "execution_count": null,
   "metadata": {},
   "outputs": [],
   "source": [
    "def compress(a: str) -> str:\n",
    "    n = len(a)\n",
    "    if n < 2:\n",
    "        return a\n",
    "    compressed = [[a[0], 1]]\n",
    "    \n",
    "    for i in range(1, n):\n",
    "        if(a[i] == a[i - 1]):\n",
    "            compressed[-1][1] += 1\n",
    "        else:\n",
    "            compressed.append([a[i], 1])\n",
    "    \n",
    "    compressed_str = ''.join(f'{char}{num}' for char, num in compressed)\n",
    "    \n",
    "    if len(compressed_str) > n:\n",
    "        return a\n",
    "    else:\n",
    "        return compressed_str"
   ]
  },
  {
   "cell_type": "code",
   "execution_count": null,
   "metadata": {},
   "outputs": [],
   "source": [
    "test_cases = [\n",
    "    (['aabcccccaaa'], 'a2b1c5a3'),\n",
    "    ([''], ''),\n",
    "    (['a'], 'a'),\n",
    "    (['abc'], 'abc'),\n",
    "    (['aac'], 'aac'),\n",
    "    (['aaac'], 'a3c1'),\n",
    "]\n",
    "\n",
    "run_test(test_cases, compress)"
   ]
  },
  {
   "cell_type": "markdown",
   "metadata": {},
   "source": [
    "# 1.7 Rotate Matrix\n",
    "\n",
    "Given an image represented by an NxN matrix, where each pixel in the image is 4\n",
    "bytes, write a method to rotate the image by 90 degrees. Can you do this in place?"
   ]
  },
  {
   "cell_type": "code",
   "execution_count": null,
   "metadata": {},
   "outputs": [],
   "source": [
    "def rotate_matrix(a):\n",
    "    n = len(a)\n",
    "    \n",
    "    for i in range(n // 2):\n",
    "        for j in range(i, n - i - 1):\n",
    "            a[i][j], a[j][-i-1], a[-i-1][-j-1], a[-j-1][i]  = a[-j-1][i],a[i][j],a[j][-i-1],a[-i-1][-j-1]\n",
    "            \n",
    "    return a"
   ]
  },
  {
   "cell_type": "code",
   "execution_count": null,
   "metadata": {},
   "outputs": [],
   "source": [
    "test_cases = [\n",
    "    ([\n",
    "        [[11, 12, 13], \n",
    "         [21, 22, 23],\n",
    "         [31, 32, 33]]\n",
    "        \n",
    "    ],  [[31, 21, 11], \n",
    "         [32, 22, 12],\n",
    "         [33, 23, 13]]),\n",
    "    ([[\n",
    "        [11, 12, 13, 14, 15],\n",
    "        [21, 22, 23, 24, 25],\n",
    "        [31, 32, 33, 34, 35],\n",
    "        [41, 42, 43, 44, 45],\n",
    "        [51, 52, 53, 54, 55],\n",
    "    ]],[ \n",
    "        [51, 41, 31, 21, 11],\n",
    "        [52, 42, 32, 22, 12],\n",
    "        [53, 43, 33, 23, 13],\n",
    "        [54, 44, 34, 24, 14],\n",
    "        [55, 45, 35, 25, 15]\n",
    "    ])\n",
    "]\n",
    "\n",
    "run_test(test_cases, rotate_matrix)"
   ]
  },
  {
   "cell_type": "markdown",
   "metadata": {},
   "source": [
    "# 1.8 Zero Matrix\n",
    "\n",
    "Write an algorithm such that if an element in an MxN matrix is 0, its entire row and\n",
    "column are set to 0."
   ]
  },
  {
   "cell_type": "code",
   "execution_count": null,
   "metadata": {},
   "outputs": [],
   "source": [
    "def zero_matrix(a):\n",
    "    m = len(a)\n",
    "    n = len(a[0])\n",
    "    \n",
    "    for i in range(m):\n",
    "        for j in range(n):\n",
    "            if(a[i][j] == 0):\n",
    "                a[i][0] = 0\n",
    "                a[0][j] = 0\n",
    "    \n",
    "                \n",
    "    for i in range(m - 1, -1, -1):\n",
    "        if a[i][0] == 0:\n",
    "            a[i] = [0] * n\n",
    "        \n",
    "        for j in range(n - 1, -1, -1):\n",
    "            if a[0][j] == 0:\n",
    "                a[i][j] = 0\n",
    "            \n",
    "    return a"
   ]
  },
  {
   "cell_type": "code",
   "execution_count": null,
   "metadata": {},
   "outputs": [],
   "source": [
    "test_cases = [\n",
    "    ([\n",
    "        [[1, 2, 3], [4, 5, 6], [7, 8, 9]]\n",
    "    ],  [[1, 2, 3], [4, 5, 6], [7, 8, 9]]),\n",
    "    \n",
    "    ([\n",
    "        [[0, 2, 3], [4, 5, 6], [7, 8, 9]]\n",
    "    ],  [[0, 0, 0], [0, 5, 6], [0, 8, 9]]),\n",
    "]\n",
    "\n",
    "run_test(test_cases, zero_matrix)"
   ]
  },
  {
   "cell_type": "markdown",
   "metadata": {},
   "source": [
    "# 1.9 String Rotation\n",
    "\n",
    "Assume you have a method `isSubstring` which checks if one word is a substring\n",
    "of another. Given two strings, `s1` and `s2`, write code to check if `s2` is a rotation of `s1` using only one\n",
    "call to `isSubstring`. For instance, **waterbottle** is a rotation of **erbottlewat**"
   ]
  },
  {
   "cell_type": "code",
   "execution_count": null,
   "metadata": {},
   "outputs": [],
   "source": [
    "def is_str_perm(s1: str, s2: str) -> bool:\n",
    "    n = len(s1)\n",
    "    \n",
    "    if(n != len(s2)):\n",
    "        return False\n",
    "    \n",
    "    return s1 in s2 + s2"
   ]
  },
  {
   "cell_type": "code",
   "execution_count": null,
   "metadata": {},
   "outputs": [],
   "source": [
    "test_cases = [\n",
    "    (['waterbottle', 'erbottlewat'], True),\n",
    "    (['waterbottlet', 'erbottlewatt'], False),\n",
    "]\n",
    "\n",
    "run_test(test_cases, is_str_perm)"
   ]
  }
 ],
 "metadata": {
  "kernelspec": {
   "display_name": "Python 3",
   "language": "python",
   "name": "python3"
  },
  "language_info": {
   "codemirror_mode": {
    "name": "ipython",
    "version": 3
   },
   "file_extension": ".py",
   "mimetype": "text/x-python",
   "name": "python",
   "nbconvert_exporter": "python",
   "pygments_lexer": "ipython3",
   "version": "3.8.5"
  }
 },
 "nbformat": 4,
 "nbformat_minor": 4
}
