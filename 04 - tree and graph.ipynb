{
 "cells": [
  {
   "cell_type": "markdown",
   "metadata": {},
   "source": [
    "# Tree, Tries and Graphs"
   ]
  },
  {
   "cell_type": "markdown",
   "metadata": {},
   "source": [
    "## 1. Given a directed graph. Find out is there a route between two nodes"
   ]
  },
  {
   "cell_type": "code",
   "execution_count": null,
   "metadata": {},
   "outputs": [],
   "source": [
    "class Graph:\n",
    "    def __init__(self, edges, n):\n",
    "        self.matrix = [[False for i in range(n)] for j in range(n)]\n",
    "        \n",
    "        for [v1, v2] in edges:\n",
    "            self.matrix[v1][v2] = True\n",
    "            \n",
    "    def __str__(self):\n",
    "        return \"\\n\".join(\" \".join(\"1\" if el else \"0\" for el in row) for row in self.matrix)"
   ]
  },
  {
   "cell_type": "markdown",
   "metadata": {},
   "source": [
    "<img alt=\"graph_example\" src=\"https://media.geeksforgeeks.org/wp-content/cdn-uploads/SCC1.png\" style=\"width: 300px\"/>"
   ]
  },
  {
   "cell_type": "code",
   "execution_count": null,
   "metadata": {},
   "outputs": [],
   "source": [
    "from collections import deque\n",
    "\n",
    "def has_path(graph, n, a, b):\n",
    "    visited = set()\n",
    "    q = deque()\n",
    "    q.append(a)\n",
    "    \n",
    "    while len(q) > 0:\n",
    "        el = q.popleft()\n",
    "        if el in visited:\n",
    "            continue\n",
    "            \n",
    "        if el == b:\n",
    "            return True\n",
    "        \n",
    "        for i in range(n):\n",
    "            if graph.matrix[el][i]:\n",
    "                q.append(i)\n",
    "                \n",
    "        visited.add(el)\n",
    "    \n",
    "    return False"
   ]
  },
  {
   "cell_type": "code",
   "execution_count": null,
   "metadata": {},
   "outputs": [],
   "source": [
    "n = 5\n",
    "edges = [\n",
    "    [0,2], [0,3], [1,0],\n",
    "    [2,1], [4,0],\n",
    "    [3,4],\n",
    "]\n",
    "\n",
    "g = Graph(edges, n)\n",
    "print(has_path(g, n, 2, 4))\n"
   ]
  },
  {
   "cell_type": "markdown",
   "metadata": {},
   "source": [
    "## 2. Given sorted array with unique ints. Create minimal height BST "
   ]
  },
  {
   "cell_type": "code",
   "execution_count": 30,
   "metadata": {},
   "outputs": [],
   "source": [
    "class Node:\n",
    "    def __init__(self, key, left=None, right=None):\n",
    "        self.key = key\n",
    "        self.left = left\n",
    "        self.right = right\n",
    "    \n",
    "    def __str__(self, level=0):\n",
    "        ret = \"\\t\" * level + repr(self.key) + \"\\n\"\n",
    "\n",
    "        if self.left != None:\n",
    "            ret += self.left.__str__(level + 1)\n",
    "        if self.right != None:\n",
    "            ret += self.right.__str__(level + 1)\n",
    "        return ret\n",
    "\n",
    "    def __repr__(self):\n",
    "        return '<tree node representation>'"
   ]
  },
  {
   "cell_type": "code",
   "execution_count": 41,
   "metadata": {},
   "outputs": [],
   "source": [
    "def create_bst(arr):\n",
    "    return inner(nodes, 0, len(arr) - 1)\n",
    "    \n",
    "\n",
    "def inner(arr, left, right):\n",
    "    if left == right:\n",
    "        return None\n",
    "    \n",
    "    center = (left + right) // 2\n",
    "    print(f\"[{left}-{center}-{right}]\")\n",
    "    \n",
    "    node = Node(arr[center].key)\n",
    "    \n",
    "    node.left = inner(arr, left, center)\n",
    "    node.right = inner(arr, center + 1, right)\n",
    "    \n",
    "    return node"
   ]
  },
  {
   "cell_type": "code",
   "execution_count": 42,
   "metadata": {},
   "outputs": [
    {
     "name": "stdout",
     "output_type": "stream",
     "text": [
      "[0-3-7]\n",
      "[0-1-3]\n",
      "[0-0-1]\n",
      "[2-2-3]\n",
      "[4-5-7]\n",
      "[4-4-5]\n",
      "[6-6-7]\n",
      "5\n",
      "\t2\n",
      "\t\t1\n",
      "\t\t3\n",
      "\t7\n",
      "\t\t6\n",
      "\t\t10\n",
      "\n"
     ]
    }
   ],
   "source": [
    "arr = [1, 2, 3, 5, 6, 7, 10, 14]\n",
    "\"\"\"\n",
    "        5\n",
    "    2       7 \n",
    "  1   3   6  10\n",
    "               14\n",
    "\"\"\"\n",
    "\"\"\"\n",
    "         6\n",
    "       /   \\\n",
    "      3     10\n",
    "     / \\   / \\\n",
    "    2   5 7   14\n",
    "   /\n",
    "  1 \n",
    "\"\"\"\n",
    "\n",
    "node = create_bst(arr)\n",
    "print(node)\n",
    "# print(\"\\n\".join(f\"<{n.key}>:\\t{n.left.key if n.left != None else '_'}\\t{n.right.key if n.right != None else '_'}\" for n in nodes))"
   ]
  }
 ],
 "metadata": {
  "kernelspec": {
   "display_name": "Python 3",
   "language": "python",
   "name": "python3"
  },
  "language_info": {
   "codemirror_mode": {
    "name": "ipython",
    "version": 3
   },
   "file_extension": ".py",
   "mimetype": "text/x-python",
   "name": "python",
   "nbconvert_exporter": "python",
   "pygments_lexer": "ipython3",
   "version": "3.8.5"
  }
 },
 "nbformat": 4,
 "nbformat_minor": 4
}
