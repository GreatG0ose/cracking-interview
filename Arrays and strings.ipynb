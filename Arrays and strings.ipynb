{
 "cells": [
  {
   "cell_type": "markdown",
   "metadata": {},
   "source": [
    "# 1.1 Is Unique\n",
    "\n",
    "Implement an algorithm to determine if a string has all unique characters. What if you\n",
    "cannot use additional data structures?"
   ]
  },
  {
   "cell_type": "code",
   "execution_count": null,
   "metadata": {},
   "outputs": [],
   "source": [
    "def is_unique_quad_optimized(string):\n",
    "    n = len(string)\n",
    "    \n",
    "    for i in range(n - 1):\n",
    "        for j in range(i + 1, n):\n",
    "            if string[i] == string[j]:\n",
    "                return False\n",
    "    \n",
    "    return True\n",
    "\n",
    "def is_unique_hash(string):\n",
    "    chars = set()\n",
    "    \n",
    "    for c in string:\n",
    "        if c in chars:\n",
    "            return False\n",
    "        chars.add(c)\n",
    "    \n",
    "    return True\n",
    "\n",
    "def is_unique_bitset(string):\n",
    "    chars = [False for _ in range(256)]\n",
    "    \n",
    "    for c in string:\n",
    "        if chars[ord(c)]:\n",
    "            return False\n",
    "        chars[ord(c)] = True\n",
    "        \n",
    "    return True\n",
    "\n",
    "def is_unique(string: str) -> bool:\n",
    "    return is_unique_bitset(string)"
   ]
  },
  {
   "cell_type": "code",
   "execution_count": null,
   "metadata": {},
   "outputs": [],
   "source": [
    "def run_test(case, f):\n",
    "    real = f(case[0])\n",
    "    if real ^ case[1]:\n",
    "        raise ValueError(f\"Case: '{case[0]}'. Expected: {case[1]}. Got: {real}\")\n",
    "    \n",
    "\n",
    "test_cases = [\n",
    "    (\"abc\", True),\n",
    "    (\"aab\", False),\n",
    "    (\"baa\", False),\n",
    "    (\"qwertyuiopasdfghjklzxcvbnm\", True),\n",
    "    (\"qwertyuiopasdfghjklzxcvbnmm\", False),\n",
    "    (\"Bab\", True),\n",
    "    (\"\", True),\n",
    "]\n",
    "\n",
    "funs = [is_unique_bitset, is_unique_hash, is_unique_quad_optimized]\n",
    "for f in funs:\n",
    "    print(f\"Test '{f.__name__}'\")\n",
    "    for case in test_cases:\n",
    "        run_test(case, f)\n",
    "        print(f\"\\tOK '{case[0]}'\")"
   ]
  },
  {
   "cell_type": "markdown",
   "metadata": {},
   "source": [
    "# 1.2 Check Permutation\n",
    "\n",
    "Given two strings, write a method to decide if one is a permutation of the\n",
    "other"
   ]
  },
  {
   "cell_type": "code",
   "execution_count": null,
   "metadata": {},
   "outputs": [],
   "source": [
    "def is_permutation_sort(str1, str2):\n",
    "    if len(str1) != len(str2):\n",
    "        return False\n",
    "    \n",
    "    arr1 = sorted(str1)\n",
    "    arr2 = sorted(str2)\n",
    "    return arr1 == arr2 \n",
    "   \n",
    "def is_permutation_charr(str1, str2):\n",
    "    if len(str1) != len(str2):\n",
    "        return False\n",
    "    \n",
    "    chars = [0 for _ in range(256)]\n",
    "    \n",
    "    for c in str1:\n",
    "        chars[ord(c)] += 1\n",
    "    for c in str2:\n",
    "        chars[ord(c)] -= 1\n",
    "    \n",
    "    for v in chars:\n",
    "        if v != 0:\n",
    "            return False\n",
    "    return True"
   ]
  },
  {
   "cell_type": "code",
   "execution_count": null,
   "metadata": {},
   "outputs": [],
   "source": [
    "def run_test(case, fun):\n",
    "    real = fun(case[0], case[1])\n",
    "    if real ^ case[2]:\n",
    "        raise ValueError(f\"Case: '{case[0]}', '{case[1]}'. Expected: {case[2]}. Got: {real}\")\n",
    "    \n",
    "\n",
    "test_cases = [\n",
    "    (\"\", \"\", True),\n",
    "    (\"abc\", \"\", False),\n",
    "    (\"abc\", \"cab\", True),\n",
    "    (\"aab\", \"ab\", False),\n",
    "    (\"baa\", \"abb\", False),\n",
    "    (\"qwertyuiopasdfghjklzxcvbnm\", \"sdfghjklzxcvbnmqwertyuiopa\", True),\n",
    "]\n",
    "\n",
    "funs = [is_permutation_sort, is_permutation_charr]\n",
    "for f in funs:\n",
    "    print(f\"Test '{f.__name__}'\")\n",
    "    for case in test_cases:\n",
    "        run_test(case, f)\n",
    "        print(f\"\\tOK '{case[0]}', '{case[1]}'\")"
   ]
  },
  {
   "cell_type": "markdown",
   "metadata": {},
   "source": [
    "# 1.3 URLify\n",
    "\n",
    "Write a method to replace all spaces in a string with '%20'. You may assume that the string\n",
    "has sufficient space at the end to hold the additional characters, and that you are given the \"true\"\n",
    "length of the string. (Note: If implementing in Java, please use a character array so that you can\n",
    "perform this operation in place.)\n",
    "\n",
    "```\n",
    "EXAMPLE\n",
    "\n",
    "Input:  \"Mr John Smith\"\n",
    "Output: \"Mr%20John%20Smith\"\n",
    "```"
   ]
  },
  {
   "cell_type": "code",
   "execution_count": null,
   "metadata": {},
   "outputs": [],
   "source": [
    "def urlify_new(string: str) -> str:\n",
    "    result = []\n",
    "    for c in string:\n",
    "        if(c == ' '):\n",
    "            result.extend(['%', '2', '0'])\n",
    "        else:\n",
    "            result.append(c)\n",
    "    return ''.join(result)\n",
    "\n",
    "def urlify_same(string):\n",
    "    # TODO same string\n",
    "    pass"
   ]
  },
  {
   "cell_type": "code",
   "execution_count": null,
   "metadata": {},
   "outputs": [],
   "source": [
    "def run_test(case, fun):\n",
    "    real = fun(case[0])\n",
    "    if real != case[1]:\n",
    "        raise ValueError(f\"Case: '{case[0]}'. Expected: {case[1]}. Got: {real}\")\n",
    "\n",
    "test_cases = [\n",
    "    (\"\", \"\"),\n",
    "    (\"abc\", \"abc\"),\n",
    "    (\"a bc  d\", \"a%20bc%20%20d\"),\n",
    "    (\" \", \"%20\"),\n",
    "]\n",
    "\n",
    "funs = [urlify_new]\n",
    "for f in funs:\n",
    "    print(f\"Test '{f.__name__}'\")\n",
    "    for case in test_cases:\n",
    "        run_test(case, f)\n",
    "        print(f\"\\tOK '{case[0]}'\")"
   ]
  },
  {
   "cell_type": "markdown",
   "metadata": {},
   "source": [
    "# 1.4 Palindrome Permutation\n",
    "\n",
    "Palindrome Permutation: Given a string, write a function to check if it is a permutation of a palin-\n",
    "drome. A palindrome is a word or phrase that is the same forwards and backwards. A permutation\n",
    "is a rearrangement of letters. The palindrome does not need to be limited to just dictionary words.\n",
    "\n",
    "```\n",
    "EXAMPLE\n",
    "\n",
    "Input: Tact Coa\n",
    "Output: True (permutations: \"taco cat\", \"atco eta\", etc.)\n",
    "```"
   ]
  },
  {
   "cell_type": "code",
   "execution_count": 2,
   "metadata": {},
   "outputs": [],
   "source": [
    "def has_palindrome_perm(string: str) -> bool:\n",
    "    # Assume string has same case\n",
    "    chars = [False for _ in range(128)]\n",
    "\n",
    "    for c in string:\n",
    "        if c == ' ':\n",
    "            continue\n",
    "        chars[ord(c)] = not chars[ord(c)]\n",
    "    \n",
    "    met_odd = False\n",
    "    for v in chars:\n",
    "        if v:\n",
    "            if met_odd:\n",
    "                return False\n",
    "            else:\n",
    "                met_odd = True\n",
    "    return True\n"
   ]
  },
  {
   "cell_type": "code",
   "execution_count": 3,
   "metadata": {},
   "outputs": [
    {
     "name": "stdout",
     "output_type": "stream",
     "text": [
      "Test 'has_palindrome_perm'\n",
      "\tOK 'tact coa'\n",
      "\tOK 'abc'\n",
      "\tOK ''\n",
      "\tOK '  aa'\n"
     ]
    }
   ],
   "source": [
    "def run_test(case, fun):\n",
    "    real = fun(case[0])\n",
    "    if real != case[1]:\n",
    "        raise ValueError(f\"Case: '{case[0]}'. Expected: {case[1]}. Got: {real}\")\n",
    "\n",
    "test_cases = [\n",
    "    (\"tact coa\", True),\n",
    "    (\"abc\", False),\n",
    "    (\"\", True),\n",
    "    (\"  aa\", True),\n",
    "]\n",
    "\n",
    "funs = [has_palindrome_perm]\n",
    "for f in funs:\n",
    "    print(f\"Test '{f.__name__}'\")\n",
    "    for case in test_cases:\n",
    "        run_test(case, f)\n",
    "        print(f\"\\tOK '{case[0]}'\")"
   ]
  },
  {
   "cell_type": "markdown",
   "metadata": {},
   "source": [
    "# 1.5 One Away\n",
    "\n",
    "There are three types of edits that can be performed on strings: insert a character,\n",
    "remove a character, or replace a character. Given two strings, write a function to check if they are\n",
    "one edit (or zero edits) away\n"
   ]
  },
  {
   "cell_type": "code",
   "execution_count": null,
   "metadata": {},
   "outputs": [],
   "source": []
  }
 ],
 "metadata": {
  "kernelspec": {
   "display_name": "Python 3",
   "language": "python",
   "name": "python3"
  },
  "language_info": {
   "codemirror_mode": {
    "name": "ipython",
    "version": 3
   },
   "file_extension": ".py",
   "mimetype": "text/x-python",
   "name": "python",
   "nbconvert_exporter": "python",
   "pygments_lexer": "ipython3",
   "version": "3.8.2"
  }
 },
 "nbformat": 4,
 "nbformat_minor": 4
}
