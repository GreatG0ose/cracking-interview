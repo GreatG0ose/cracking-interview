{
 "cells": [
  {
   "cell_type": "markdown",
   "metadata": {},
   "source": [
    "# Task 1.1\n",
    "\n",
    "Is Unique: Implement an algorithm to determine if a string has all unique characters. What if you\n",
    "cannot use additional data structures?"
   ]
  },
  {
   "cell_type": "code",
   "execution_count": 10,
   "metadata": {},
   "outputs": [],
   "source": [
    "def is_unique_quad_optimized(string):\n",
    "    n = len(string)\n",
    "    \n",
    "    for i in range(n - 1):\n",
    "        for j in range(i + 1, n):\n",
    "            if string[i] == string[j]:\n",
    "                return False\n",
    "    \n",
    "    return True\n",
    "\n",
    "def is_unique_hash(string):\n",
    "    chars = set()\n",
    "    \n",
    "    for c in string:\n",
    "        if c in chars:\n",
    "            return False\n",
    "        chars.add(c)\n",
    "    \n",
    "    return True\n",
    "\n",
    "def is_unique_bitset(string):\n",
    "    chars = [False for _ in range(256)]\n",
    "    \n",
    "    for c in string:\n",
    "        if chars[ord(c)]:\n",
    "            return False\n",
    "        chars[ord(c)] = True\n",
    "        \n",
    "    return True\n",
    "\n",
    "def is_unique(string: str):\n",
    "    return is_unique_bitset(string)"
   ]
  },
  {
   "cell_type": "code",
   "execution_count": 15,
   "metadata": {},
   "outputs": [
    {
     "name": "stdout",
     "output_type": "stream",
     "text": [
      "'abc' passed\n",
      "'aab' passed\n",
      "'baa' passed\n",
      "'qwertyuiopasdfghjklzxcvbnm' passed\n",
      "'qwertyuiopasdfghjklzxcvbnmm' passed\n",
      "'Bab' passed\n",
      "'' passed\n"
     ]
    }
   ],
   "source": [
    "def run_test(case):\n",
    "    real = is_unique(case[0])\n",
    "    if real ^ case[1]:\n",
    "        raise ValueError(f\"Case: '{case[0]}'. Expected: {case[1]}. Got: {real}\")\n",
    "    \n",
    "\n",
    "test_cases = [\n",
    "    (\"abc\", True),\n",
    "    (\"aab\", False),\n",
    "    (\"baa\", False),\n",
    "    (\"qwertyuiopasdfghjklzxcvbnm\", True),\n",
    "    (\"qwertyuiopasdfghjklzxcvbnmm\", False),\n",
    "    (\"Bab\", True),\n",
    "    (\"\", True),\n",
    "]\n",
    "\n",
    "failed = []\n",
    "for case in test_cases:\n",
    "    run_test(case)\n",
    "    print(f\"'{case[0]}' passed\")"
   ]
  },
  {
   "cell_type": "code",
   "execution_count": null,
   "metadata": {},
   "outputs": [],
   "source": []
  }
 ],
 "metadata": {
  "kernelspec": {
   "display_name": "Python 3",
   "language": "python",
   "name": "python3"
  },
  "language_info": {
   "codemirror_mode": {
    "name": "ipython",
    "version": 3
   },
   "file_extension": ".py",
   "mimetype": "text/x-python",
   "name": "python",
   "nbconvert_exporter": "python",
   "pygments_lexer": "ipython3",
   "version": "3.8.2"
  }
 },
 "nbformat": 4,
 "nbformat_minor": 4
}
