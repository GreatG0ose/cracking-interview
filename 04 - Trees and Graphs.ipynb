{
 "cells": [
  {
   "cell_type": "markdown",
   "metadata": {},
   "source": [
    "# Trees and Graphs"
   ]
  },
  {
   "cell_type": "markdown",
   "metadata": {},
   "source": [
    "## 1. Given a directed graph. Find out is there a route between two nodes"
   ]
  },
  {
   "cell_type": "code",
   "execution_count": 1,
   "metadata": {},
   "outputs": [],
   "source": [
    "class Graph:\n",
    "    def __init__(self, edges, n):\n",
    "        self.matrix = [[False for i in range(n)] for j in range(n)]\n",
    "        \n",
    "        for [v1, v2] in edges:\n",
    "            self.matrix[v1][v2] = True\n",
    "            \n",
    "    def __str__(self):\n",
    "        return \"\\n\".join(\" \".join(\"1\" if el else \"0\" for el in row) for row in self.matrix)"
   ]
  },
  {
   "cell_type": "markdown",
   "metadata": {},
   "source": [
    "<img alt=\"graph_example\" src=\"https://media.geeksforgeeks.org/wp-content/cdn-uploads/SCC1.png\" style=\"width: 300px\"/>"
   ]
  },
  {
   "cell_type": "code",
   "execution_count": 2,
   "metadata": {},
   "outputs": [],
   "source": [
    "from collections import deque\n",
    "\n",
    "def has_path(graph, n, a, b):\n",
    "    visited = set()\n",
    "    q = deque()\n",
    "    q.append(a)\n",
    "    \n",
    "    while len(q) > 0:\n",
    "        el = q.popleft()\n",
    "        if el in visited:\n",
    "            continue\n",
    "            \n",
    "        if el == b:\n",
    "            return True\n",
    "        \n",
    "        for i in range(n):\n",
    "            if graph.matrix[el][i]:\n",
    "                q.append(i)\n",
    "                \n",
    "        visited.add(el)\n",
    "    \n",
    "    return False"
   ]
  },
  {
   "cell_type": "code",
   "execution_count": 3,
   "metadata": {},
   "outputs": [
    {
     "name": "stdout",
     "output_type": "stream",
     "text": [
      "True\n"
     ]
    }
   ],
   "source": [
    "n = 5\n",
    "edges = [\n",
    "    [0,2], [0,3], [1,0],\n",
    "    [2,1], [4,0],\n",
    "    [3,4],\n",
    "]\n",
    "\n",
    "g = Graph(edges, n)\n",
    "print(has_path(g, n, 2, 4))\n"
   ]
  },
  {
   "cell_type": "markdown",
   "metadata": {},
   "source": [
    "## 2. Given sorted array with unique ints. Create minimal height BST "
   ]
  },
  {
   "cell_type": "code",
   "execution_count": 4,
   "metadata": {},
   "outputs": [],
   "source": [
    "class Node:\n",
    "    def __init__(self, key, left=None, right=None):\n",
    "        self.key = key\n",
    "        self.left = left\n",
    "        self.right = right\n",
    "    \n",
    "    def __str__(self, level=0):\n",
    "        ret = \"\\t\" * level + repr(self.key) + \"\\n\"\n",
    "\n",
    "        if self.left != None:\n",
    "            ret += self.left.__str__(level + 1)\n",
    "        if self.right != None:\n",
    "            ret += self.right.__str__(level + 1)\n",
    "        return ret\n",
    "\n",
    "    def __repr__(self):\n",
    "        return '<tree node representation>'"
   ]
  },
  {
   "cell_type": "code",
   "execution_count": 5,
   "metadata": {},
   "outputs": [],
   "source": [
    "def create_bst(arr):\n",
    "    def inner(arr, left, right):\n",
    "        if left == right:\n",
    "            return None\n",
    "\n",
    "        center = (left + right) // 2\n",
    "\n",
    "        node = Node(arr[center])\n",
    "        node.left = inner(arr, left, center)\n",
    "        node.right = inner(arr, center + 1, right)\n",
    "\n",
    "        return node\n",
    "\n",
    "    return inner(arr, 0, len(arr))"
   ]
  },
  {
   "cell_type": "code",
   "execution_count": 6,
   "metadata": {},
   "outputs": [
    {
     "name": "stdout",
     "output_type": "stream",
     "text": [
      "6\n",
      "\t3\n",
      "\t\t2\n",
      "\t\t\t1\n",
      "\t\t5\n",
      "\t10\n",
      "\t\t7\n",
      "\t\t14\n",
      "\n"
     ]
    }
   ],
   "source": [
    "arr = [1, 2, 3, 5, 6, 7, 10, 14]\n",
    "\"\"\"\n",
    "         6\n",
    "       /   \\\n",
    "      3     10\n",
    "     / \\   / \\\n",
    "    2   5 7   14\n",
    "   /\n",
    "  1 \n",
    "\"\"\"\n",
    "\n",
    "node = create_bst(arr)\n",
    "print(node)"
   ]
  },
  {
   "cell_type": "markdown",
   "metadata": {},
   "source": [
    "# 3. Given binary tree. Represent levels as linked lists of nodes"
   ]
  },
  {
   "cell_type": "code",
   "execution_count": 7,
   "metadata": {},
   "outputs": [],
   "source": [
    "from collections import deque\n",
    "\n",
    "def get_levels(root, d):\n",
    "    \"\"\"\n",
    "        root - root of the tree\n",
    "        d    - tree depth\n",
    "    \"\"\"\n",
    "    levels = [[] for _ in range(d)]\n",
    "    q = deque()\n",
    "    q.append([root, 0])\n",
    "    \n",
    "    while len(q) != 0:\n",
    "        node, level = q.popleft()\n",
    "        \n",
    "        levels[level].append(node)\n",
    "        if node.left != None:\n",
    "            q.append([node.left, level + 1])\n",
    "        \n",
    "        if node.right != None:\n",
    "            q.append([node.right, level + 1])\n",
    "                \n",
    "    return levels"
   ]
  },
  {
   "cell_type": "code",
   "execution_count": 8,
   "metadata": {},
   "outputs": [
    {
     "name": "stdout",
     "output_type": "stream",
     "text": [
      "6\n",
      "\t3\n",
      "\t\t2\n",
      "\t\t\t1\n",
      "\t\t5\n",
      "\t10\n",
      "\t\t7\n",
      "\t\t14\n",
      "\n",
      "[6]\n",
      "[3, 10]\n",
      "[2, 5, 7, 14]\n",
      "[1]\n"
     ]
    }
   ],
   "source": [
    "print(node)\n",
    "levels = get_levels(node, 4)\n",
    "\n",
    "for arr in levels:\n",
    "    print(f\"{[node.key for node in arr]}\")"
   ]
  },
  {
   "cell_type": "markdown",
   "metadata": {},
   "source": [
    "# 4 Tree is balanced"
   ]
  },
  {
   "cell_type": "code",
   "execution_count": 9,
   "metadata": {
    "scrolled": true
   },
   "outputs": [
    {
     "name": "stdout",
     "output_type": "stream",
     "text": [
      "True\n",
      "1\n",
      "\t2\n",
      "\t\t3\n",
      "\t\t\t4\n",
      "\t\t\t\t5\n",
      "\t\t\t\t6\n",
      "\n",
      "False\n"
     ]
    }
   ],
   "source": [
    "def is_balanced(root):\n",
    "    def balanced(left, right):\n",
    "        return abs(left - right) <= 1\n",
    "    \n",
    "    def depth(root, acc):\n",
    "        if root == None:\n",
    "            return acc, True\n",
    "        \n",
    "        left, is_ok = depth(root.left, acc)\n",
    "        if not is_ok:\n",
    "            return -1, False\n",
    "        \n",
    "        right, is_ok = depth(root.right, acc)\n",
    "        if not is_ok:\n",
    "            return -1, False\n",
    "        \n",
    "        return max(left, right) + 1, balanced(left, right)\n",
    "    \n",
    "    \n",
    "    left, is_ok = depth(root.left, 0)\n",
    "    if not is_ok:\n",
    "        return False\n",
    "\n",
    "    right, is_ok = depth(root.right, 0)\n",
    "    if not is_ok:\n",
    "        return False\n",
    "    \n",
    "    return balanced(left, right)\n",
    "\n",
    "\n",
    "print(is_balanced(node))\n",
    "\n",
    "not_balanced = Node(1, \n",
    "                   Node(2,\n",
    "                        Node(3,\n",
    "                            Node(4,\n",
    "                                Node(5),\n",
    "                                Node(6) \n",
    "                                ),\n",
    "                            )\n",
    "                       )\n",
    "                   )\n",
    "\n",
    "print(not_balanced)\n",
    "print(is_balanced(not_balanced))"
   ]
  },
  {
   "cell_type": "markdown",
   "metadata": {},
   "source": [
    "# 5 Check binary tree is BST"
   ]
  },
  {
   "cell_type": "code",
   "execution_count": 11,
   "metadata": {},
   "outputs": [
    {
     "name": "stdout",
     "output_type": "stream",
     "text": [
      "True\n",
      "False\n"
     ]
    }
   ],
   "source": [
    "def is_bst_first_solution(root):\n",
    "    arr = []\n",
    "    \n",
    "    def inner(node, visit):\n",
    "        if node == None:\n",
    "            return\n",
    "        \n",
    "        inner(node.left, visit)\n",
    "        visit(node)\n",
    "        inner(node.right, visit)\n",
    "        \n",
    "    def add(node):\n",
    "        arr.append(node)\n",
    "        \n",
    "    inner(root, add)\n",
    "    print([n.key for n in arr])\n",
    "    \n",
    "    for i in range(len(arr) - 1):\n",
    "        if arr[i].key > arr[i + 1].key:\n",
    "            return False\n",
    "    return True\n",
    "\n",
    "def is_bst_second_solution(root):\n",
    "    def inner(node, minimum, maximum):\n",
    "        if node == None:\n",
    "            return True\n",
    "        \n",
    "        if node.key < minimum or node.key > maximum:\n",
    "            return False\n",
    "        \n",
    "        if not inner(node.left, minimum, node.key):\n",
    "            return False\n",
    "        \n",
    "        if not inner(node.right, node.key, maximum):\n",
    "            return False\n",
    "        \n",
    "        return True\n",
    "    \n",
    "    return inner(root, -1000, 1000) \n",
    "\n",
    "print(is_bst_second_solution(node))\n",
    "\n",
    "print(is_bst_second_solution(\n",
    "    Node(1, \n",
    "        Node(-10,\n",
    "             Node(-11, Node(2))\n",
    "            ),)\n",
    "\n",
    "))"
   ]
  }
 ],
 "metadata": {
  "kernelspec": {
   "display_name": "Python 3",
   "language": "python",
   "name": "python3"
  },
  "language_info": {
   "codemirror_mode": {
    "name": "ipython",
    "version": 3
   },
   "file_extension": ".py",
   "mimetype": "text/x-python",
   "name": "python",
   "nbconvert_exporter": "python",
   "pygments_lexer": "ipython3",
   "version": "3.8.5"
  }
 },
 "nbformat": 4,
 "nbformat_minor": 4
}
